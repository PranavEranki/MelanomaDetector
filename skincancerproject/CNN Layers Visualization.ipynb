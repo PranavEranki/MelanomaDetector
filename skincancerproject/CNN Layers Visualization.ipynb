{
 "cells": [
  {
   "cell_type": "code",
   "execution_count": null,
   "metadata": {},
   "outputs": [],
   "source": [
    "%matplotlib inline\n",
    "import numpy as np\n",
    "from skimage import io\n",
    "import matplotlib.pyplot as plt"
   ]
  },
  {
   "cell_type": "code",
   "execution_count": null,
   "metadata": {},
   "outputs": [],
   "source": [
    "imgb = io.imread('data_scaled/benign/bimg-57.png')\n",
    "imgm = io.imread('data_scaled/malign/mimg-178.png')\n",
    "imgb = io.imread('data_scaled/benign/bimg-721.png')\n",
    "imgm = io.imread('data_scaled/malign/mimg-57.png')"
   ]
  },
  {
   "cell_type": "code",
   "execution_count": null,
   "metadata": {},
   "outputs": [],
   "source": [
    "plt.figure(figsize=(10,20))\n",
    "plt.subplot(121)\n",
    "plt.imshow(imgb)\n",
    "plt.axis('off')\n",
    "plt.subplot(122)\n",
    "plt.imshow(imgm)\n",
    "plt.axis('off');"
   ]
  },
  {
   "cell_type": "code",
   "execution_count": null,
   "metadata": {},
   "outputs": [],
   "source": [
    "from keras.models import load_model"
   ]
  },
  {
   "cell_type": "code",
   "execution_count": null,
   "metadata": {},
   "outputs": [],
   "source": [
    "model = load_model('../models-backup/BM_VA_VGG_FULL_DA.hdf5') # LOAD MODEL HDF5 FILE HERE!!!"
   ]
  },
  {
   "cell_type": "code",
   "execution_count": null,
   "metadata": {},
   "outputs": [],
   "source": [
    "from keras import backend as K\n",
    "\n",
    "def activ_viewer(model, layer_name, im_put):\n",
    "    layer_dict = dict([(layer.name, layer) for layer in model.layers])\n",
    "    layer = layer_dict[layer_name]\n",
    "    activ1 = K.function([model.layers[0].input, K.learning_phase()], [layer.output,])\n",
    "    activations = activ1((im_put, False))\n",
    "    return activations\n",
    "\n",
    "def normalize(x):\n",
    "    # utility function to normalize a tensor by its L2 norm\n",
    "    return x / (K.sqrt(K.mean(K.square(x))) + 1e-5)\n",
    "\n",
    "def deprocess_image(x):\n",
    "    # normalize tensor: center on 0., ensure std is 0.1\n",
    "    x -= x.mean()\n",
    "    x /= (x.std() + 1e-5)\n",
    "    x *= 0.1\n",
    "\n",
    "    # clip to [0, 1]\n",
    "    x += 0.5\n",
    "    x = np.clip(x, 0, 1)\n",
    "\n",
    "    # convert to RGB array\n",
    "    x *= 255\n",
    "    if K.image_data_format() == 'channels_first':\n",
    "        x = x.transpose((1, 2, 0))\n",
    "    x = np.clip(x, 0, 255).astype('uint8')\n",
    "    return x\n",
    "\n",
    "def plot_filters(filters):\n",
    "    newimage = np.zeros((16*filters.shape[0],8*filters.shape[1]))\n",
    "    for i in range(filters.shape[2]):\n",
    "        y = i%8\n",
    "        x = i//8\n",
    "        newimage[x*filters.shape[0]:x*filters.shape[0]+filters.shape[0],\n",
    "                 y*filters.shape[1]:y*filters.shape[1]+filters.shape[1]] = filters[:,:,i]\n",
    "    plt.figure(figsize = (10,20))\n",
    "    plt.imshow(newimage)\n",
    "    plt.axis('off')"
   ]
  },
  {
   "cell_type": "code",
   "execution_count": null,
   "metadata": {},
   "outputs": [],
   "source": [
    "layer_dict = dict([(layer.name, layer) for layer in model.layers])"
   ]
  },
  {
   "cell_type": "markdown",
   "metadata": {},
   "source": [
    "# Model Summary"
   ]
  },
  {
   "cell_type": "code",
   "execution_count": null,
   "metadata": {},
   "outputs": [],
   "source": [
    "model.summary()"
   ]
  },
  {
   "cell_type": "markdown",
   "metadata": {},
   "source": [
    "# Block 2, Conv 1 output"
   ]
  },
  {
   "cell_type": "code",
   "execution_count": null,
   "metadata": {},
   "outputs": [],
   "source": [
    "activ_benign = activ_viewer(model,'block2_conv1',imgb.reshape(1,128,128,3))\n",
    "img_benign = deprocess_image(activ_benign[0])\n",
    "plot_filters(img_benign[0])\n",
    "# plt.figure(figsize=(20,20))\n",
    "# for f in range(128):\n",
    "#     plt.subplot(8,16,f+1)\n",
    "#     plt.imshow(img_benign[0,:,:,f])\n",
    "#     plt.axis('off')"
   ]
  },
  {
   "cell_type": "code",
   "execution_count": null,
   "metadata": {},
   "outputs": [],
   "source": [
    "activ_malign = activ_viewer(model,'block2_conv1',imgm.reshape(1,128,128,3))\n",
    "img_malign = deprocess_image(activ_malign[0])\n",
    "plot_filters(img_malign[0])\n",
    "# plt.figure(figsize=(20,20))\n",
    "# for f in range(128):\n",
    "#     plt.subplot(8,16,f+1)\n",
    "#     plt.imshow(img_malign[0,:,:,f])\n",
    "#     plt.axis('off')"
   ]
  },
  {
   "cell_type": "markdown",
   "metadata": {},
   "source": [
    "## Zooming to some of the filters"
   ]
  },
  {
   "cell_type": "code",
   "execution_count": null,
   "metadata": {},
   "outputs": [],
   "source": [
    "plt.figure(figsize=(10,10))\n",
    "plt.subplot(121)\n",
    "plt.imshow(img_benign[0,:,:,49])\n",
    "plt.axis('off')\n",
    "plt.subplot(122)\n",
    "plt.imshow(img_malign[0,:,:,49])\n",
    "plt.axis('off')\n",
    "\n"
   ]
  },
  {
   "cell_type": "code",
   "execution_count": null,
   "metadata": {},
   "outputs": [],
   "source": [
    "plt.figure(figsize=(10,10))\n",
    "plt.subplot(121)\n",
    "plt.imshow(img_benign[0,:,:,94])\n",
    "plt.axis('off')\n",
    "plt.subplot(122)\n",
    "plt.imshow(img_malign[0,:,:,94])\n",
    "plt.axis('off')\n"
   ]
  },
  {
   "cell_type": "markdown",
   "metadata": {},
   "source": [
    "# Block 3 conv 3"
   ]
  },
  {
   "cell_type": "code",
   "execution_count": null,
   "metadata": {},
   "outputs": [],
   "source": [
    "def plot_filters32(filters):\n",
    "    newimage = np.zeros((16*filters.shape[0],16*filters.shape[1]))\n",
    "    for i in range(filters.shape[2]):\n",
    "        y = i%16\n",
    "        x = i//16\n",
    "        newimage[x*filters.shape[0]:x*filters.shape[0]+filters.shape[0],\n",
    "                 y*filters.shape[1]:y*filters.shape[1]+filters.shape[1]] = filters[:,:,i]\n",
    "    plt.figure(figsize = (15,25))\n",
    "    plt.imshow(newimage)    \n",
    "    \n",
    "activ_benign = activ_viewer(model,'block3_conv3',imgb.reshape(1,128,128,3))\n",
    "img_benign = deprocess_image(activ_benign[0])\n",
    "plot_filters32(img_benign[0])\n"
   ]
  },
  {
   "cell_type": "code",
   "execution_count": null,
   "metadata": {},
   "outputs": [],
   "source": [
    "activ_malign = activ_viewer(model,'block3_conv3',imgm.reshape(1,128,128,3))\n",
    "img_malign = deprocess_image(activ_malign[0])\n",
    "plot_filters32(img_malign[0])"
   ]
  }
 ],
 "metadata": {
  "kernelspec": {
   "display_name": "Python 3",
   "language": "python",
   "name": "python3"
  },
  "language_info": {
   "codemirror_mode": {
    "name": "ipython",
    "version": 3
   },
   "file_extension": ".py",
   "mimetype": "text/x-python",
   "name": "python",
   "nbconvert_exporter": "python",
   "pygments_lexer": "ipython3",
   "version": "3.6.5"
  }
 },
 "nbformat": 4,
 "nbformat_minor": 2
}
